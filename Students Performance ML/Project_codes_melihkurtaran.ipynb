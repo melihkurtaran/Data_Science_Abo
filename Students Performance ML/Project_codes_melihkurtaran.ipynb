{
  "nbformat": 4,
  "nbformat_minor": 0,
  "metadata": {
    "colab": {
      "name": "Mini Project 2 – Students Performance.ipynb",
      "provenance": [],
      "collapsed_sections": []
    },
    "kernelspec": {
      "name": "python3",
      "display_name": "Python 3"
    },
    "language_info": {
      "name": "python"
    }
  },
  "cells": [
    {
      "cell_type": "markdown",
      "metadata": {
        "id": "G7Xw7PNA7iqp"
      },
      "source": [
        "**Mini Project 2 - Students Performance by Melih Kurtaran**"
      ]
    },
    {
      "cell_type": "markdown",
      "metadata": {
        "id": "TJ5LNLOV7zK0"
      },
      "source": [
        "In this project, the data collected from 9 week long online ML course which is hosted on the online learning management system Moodle will be used for developing ML algorithms."
      ]
    },
    {
      "cell_type": "code",
      "metadata": {
        "id": "MWh-BN0v8zA5"
      },
      "source": [
        "#importing the necessary libraries\n",
        "import pandas as pd # data processing, CSV file I/O (e.g. pd.read_csv)\n",
        "from sklearn import model_selection\n",
        "from sklearn.model_selection import train_test_split\n",
        "from sklearn.metrics import classification_report\n",
        "from sklearn.metrics import confusion_matrix"
      ],
      "execution_count": 12,
      "outputs": []
    },
    {
      "cell_type": "code",
      "metadata": {
        "colab": {
          "base_uri": "https://localhost:8080/",
          "height": 400
        },
        "id": "Ay_UAdTu7qQd",
        "outputId": "2d0f682a-b063-4a4c-fedb-bb3c69d7a7b3"
      },
      "source": [
        "#load csv file\n",
        "df_grades = pd.read_csv('MP2_Data.csv')\n",
        "df_grades.head()"
      ],
      "execution_count": 13,
      "outputs": [
        {
          "output_type": "execute_result",
          "data": {
            "text/html": [
              "<div>\n",
              "<style scoped>\n",
              "    .dataframe tbody tr th:only-of-type {\n",
              "        vertical-align: middle;\n",
              "    }\n",
              "\n",
              "    .dataframe tbody tr th {\n",
              "        vertical-align: top;\n",
              "    }\n",
              "\n",
              "    .dataframe thead th {\n",
              "        text-align: right;\n",
              "    }\n",
              "</style>\n",
              "<table border=\"1\" class=\"dataframe\">\n",
              "  <thead>\n",
              "    <tr style=\"text-align: right;\">\n",
              "      <th></th>\n",
              "      <th>ID</th>\n",
              "      <th>Week2_Quiz1</th>\n",
              "      <th>Week3_MP1</th>\n",
              "      <th>Week3_PR1</th>\n",
              "      <th>Week5_MP2</th>\n",
              "      <th>Week5_PR2</th>\n",
              "      <th>Week7_MP3</th>\n",
              "      <th>Week7_PR3</th>\n",
              "      <th>Week4_Quiz2</th>\n",
              "      <th>Week6_Quiz3</th>\n",
              "      <th>Week8_Total</th>\n",
              "      <th>Week1_Stat0</th>\n",
              "      <th>Week1_Stat1</th>\n",
              "      <th>Week1_Stat2</th>\n",
              "      <th>Week1_Stat3</th>\n",
              "      <th>Week2_Stat0</th>\n",
              "      <th>Week2_Stat1</th>\n",
              "      <th>Week2_Stat2</th>\n",
              "      <th>Week2_Stat3</th>\n",
              "      <th>Week3_Stat0</th>\n",
              "      <th>Week3_Stat1</th>\n",
              "      <th>Week3_Stat2</th>\n",
              "      <th>Week3_Stat3</th>\n",
              "      <th>Week4_Stat0</th>\n",
              "      <th>Week4_Stat1</th>\n",
              "      <th>Week4_Stat2</th>\n",
              "      <th>Week4_Stat3</th>\n",
              "      <th>Week5_Stat0</th>\n",
              "      <th>Week5_Stat1</th>\n",
              "      <th>Week5_Stat2</th>\n",
              "      <th>Week5_Stat3</th>\n",
              "      <th>Week6_Stat0</th>\n",
              "      <th>Week6_Stat1</th>\n",
              "      <th>Week6_Stat2</th>\n",
              "      <th>Week6_Stat3</th>\n",
              "      <th>Week7_Stat0</th>\n",
              "      <th>Week7_Stat1</th>\n",
              "      <th>Week7_Stat2</th>\n",
              "      <th>Week7_Stat3</th>\n",
              "      <th>Week8_Stat0</th>\n",
              "      <th>Week8_Stat1</th>\n",
              "      <th>Week8_Stat2</th>\n",
              "      <th>Week8_Stat3</th>\n",
              "      <th>Week9_Stat0</th>\n",
              "      <th>Week9_Stat1</th>\n",
              "      <th>Week9_Stat2</th>\n",
              "      <th>Week9_Stat3</th>\n",
              "      <th>Grade</th>\n",
              "    </tr>\n",
              "  </thead>\n",
              "  <tbody>\n",
              "    <tr>\n",
              "      <th>0</th>\n",
              "      <td>ML-2020-1</td>\n",
              "      <td>5.00</td>\n",
              "      <td>15.0</td>\n",
              "      <td>5.0</td>\n",
              "      <td>16.09</td>\n",
              "      <td>5.00</td>\n",
              "      <td>21.88</td>\n",
              "      <td>5.0</td>\n",
              "      <td>5.00</td>\n",
              "      <td>5.0</td>\n",
              "      <td>82.97</td>\n",
              "      <td>0</td>\n",
              "      <td>0</td>\n",
              "      <td>0</td>\n",
              "      <td>0</td>\n",
              "      <td>7</td>\n",
              "      <td>30</td>\n",
              "      <td>1</td>\n",
              "      <td>0</td>\n",
              "      <td>30</td>\n",
              "      <td>4</td>\n",
              "      <td>0</td>\n",
              "      <td>0</td>\n",
              "      <td>14</td>\n",
              "      <td>39</td>\n",
              "      <td>2</td>\n",
              "      <td>0</td>\n",
              "      <td>24</td>\n",
              "      <td>6</td>\n",
              "      <td>1</td>\n",
              "      <td>0</td>\n",
              "      <td>28</td>\n",
              "      <td>30</td>\n",
              "      <td>2</td>\n",
              "      <td>0</td>\n",
              "      <td>2</td>\n",
              "      <td>0</td>\n",
              "      <td>1</td>\n",
              "      <td>0</td>\n",
              "      <td>5</td>\n",
              "      <td>4</td>\n",
              "      <td>0</td>\n",
              "      <td>4</td>\n",
              "      <td>8</td>\n",
              "      <td>6</td>\n",
              "      <td>1</td>\n",
              "      <td>0</td>\n",
              "      <td>4</td>\n",
              "    </tr>\n",
              "    <tr>\n",
              "      <th>1</th>\n",
              "      <td>ML-2020-2</td>\n",
              "      <td>3.33</td>\n",
              "      <td>15.0</td>\n",
              "      <td>5.0</td>\n",
              "      <td>17.83</td>\n",
              "      <td>5.00</td>\n",
              "      <td>22.27</td>\n",
              "      <td>5.0</td>\n",
              "      <td>4.00</td>\n",
              "      <td>5.0</td>\n",
              "      <td>82.43</td>\n",
              "      <td>8</td>\n",
              "      <td>0</td>\n",
              "      <td>0</td>\n",
              "      <td>0</td>\n",
              "      <td>61</td>\n",
              "      <td>10</td>\n",
              "      <td>3</td>\n",
              "      <td>8</td>\n",
              "      <td>100</td>\n",
              "      <td>4</td>\n",
              "      <td>4</td>\n",
              "      <td>3</td>\n",
              "      <td>130</td>\n",
              "      <td>16</td>\n",
              "      <td>1</td>\n",
              "      <td>4</td>\n",
              "      <td>48</td>\n",
              "      <td>19</td>\n",
              "      <td>5</td>\n",
              "      <td>5</td>\n",
              "      <td>57</td>\n",
              "      <td>22</td>\n",
              "      <td>2</td>\n",
              "      <td>4</td>\n",
              "      <td>31</td>\n",
              "      <td>9</td>\n",
              "      <td>0</td>\n",
              "      <td>8</td>\n",
              "      <td>5</td>\n",
              "      <td>2</td>\n",
              "      <td>0</td>\n",
              "      <td>0</td>\n",
              "      <td>25</td>\n",
              "      <td>3</td>\n",
              "      <td>2</td>\n",
              "      <td>5</td>\n",
              "      <td>4</td>\n",
              "    </tr>\n",
              "    <tr>\n",
              "      <th>2</th>\n",
              "      <td>ML-2020-3</td>\n",
              "      <td>1.67</td>\n",
              "      <td>13.0</td>\n",
              "      <td>5.0</td>\n",
              "      <td>15.22</td>\n",
              "      <td>5.00</td>\n",
              "      <td>27.05</td>\n",
              "      <td>2.5</td>\n",
              "      <td>5.00</td>\n",
              "      <td>5.0</td>\n",
              "      <td>79.44</td>\n",
              "      <td>4</td>\n",
              "      <td>0</td>\n",
              "      <td>0</td>\n",
              "      <td>0</td>\n",
              "      <td>19</td>\n",
              "      <td>10</td>\n",
              "      <td>3</td>\n",
              "      <td>3</td>\n",
              "      <td>25</td>\n",
              "      <td>4</td>\n",
              "      <td>0</td>\n",
              "      <td>2</td>\n",
              "      <td>50</td>\n",
              "      <td>19</td>\n",
              "      <td>2</td>\n",
              "      <td>2</td>\n",
              "      <td>28</td>\n",
              "      <td>6</td>\n",
              "      <td>0</td>\n",
              "      <td>2</td>\n",
              "      <td>14</td>\n",
              "      <td>20</td>\n",
              "      <td>2</td>\n",
              "      <td>0</td>\n",
              "      <td>12</td>\n",
              "      <td>4</td>\n",
              "      <td>0</td>\n",
              "      <td>0</td>\n",
              "      <td>8</td>\n",
              "      <td>2</td>\n",
              "      <td>0</td>\n",
              "      <td>0</td>\n",
              "      <td>9</td>\n",
              "      <td>0</td>\n",
              "      <td>1</td>\n",
              "      <td>0</td>\n",
              "      <td>3</td>\n",
              "    </tr>\n",
              "    <tr>\n",
              "      <th>3</th>\n",
              "      <td>ML-2020-4</td>\n",
              "      <td>2.50</td>\n",
              "      <td>14.0</td>\n",
              "      <td>5.0</td>\n",
              "      <td>10.00</td>\n",
              "      <td>5.00</td>\n",
              "      <td>31.02</td>\n",
              "      <td>5.0</td>\n",
              "      <td>3.13</td>\n",
              "      <td>5.0</td>\n",
              "      <td>80.65</td>\n",
              "      <td>12</td>\n",
              "      <td>0</td>\n",
              "      <td>0</td>\n",
              "      <td>1</td>\n",
              "      <td>30</td>\n",
              "      <td>10</td>\n",
              "      <td>1</td>\n",
              "      <td>6</td>\n",
              "      <td>79</td>\n",
              "      <td>4</td>\n",
              "      <td>2</td>\n",
              "      <td>2</td>\n",
              "      <td>240</td>\n",
              "      <td>27</td>\n",
              "      <td>2</td>\n",
              "      <td>1</td>\n",
              "      <td>47</td>\n",
              "      <td>4</td>\n",
              "      <td>3</td>\n",
              "      <td>1</td>\n",
              "      <td>99</td>\n",
              "      <td>19</td>\n",
              "      <td>4</td>\n",
              "      <td>0</td>\n",
              "      <td>29</td>\n",
              "      <td>4</td>\n",
              "      <td>5</td>\n",
              "      <td>4</td>\n",
              "      <td>10</td>\n",
              "      <td>0</td>\n",
              "      <td>0</td>\n",
              "      <td>0</td>\n",
              "      <td>7</td>\n",
              "      <td>6</td>\n",
              "      <td>0</td>\n",
              "      <td>0</td>\n",
              "      <td>3</td>\n",
              "    </tr>\n",
              "    <tr>\n",
              "      <th>4</th>\n",
              "      <td>ML-2020-6</td>\n",
              "      <td>0.00</td>\n",
              "      <td>15.0</td>\n",
              "      <td>5.0</td>\n",
              "      <td>12.17</td>\n",
              "      <td>4.93</td>\n",
              "      <td>15.91</td>\n",
              "      <td>5.0</td>\n",
              "      <td>4.67</td>\n",
              "      <td>5.0</td>\n",
              "      <td>67.68</td>\n",
              "      <td>6</td>\n",
              "      <td>0</td>\n",
              "      <td>0</td>\n",
              "      <td>0</td>\n",
              "      <td>0</td>\n",
              "      <td>0</td>\n",
              "      <td>0</td>\n",
              "      <td>0</td>\n",
              "      <td>27</td>\n",
              "      <td>5</td>\n",
              "      <td>0</td>\n",
              "      <td>0</td>\n",
              "      <td>6</td>\n",
              "      <td>15</td>\n",
              "      <td>1</td>\n",
              "      <td>0</td>\n",
              "      <td>32</td>\n",
              "      <td>12</td>\n",
              "      <td>0</td>\n",
              "      <td>8</td>\n",
              "      <td>22</td>\n",
              "      <td>18</td>\n",
              "      <td>1</td>\n",
              "      <td>2</td>\n",
              "      <td>43</td>\n",
              "      <td>4</td>\n",
              "      <td>3</td>\n",
              "      <td>6</td>\n",
              "      <td>8</td>\n",
              "      <td>5</td>\n",
              "      <td>1</td>\n",
              "      <td>1</td>\n",
              "      <td>5</td>\n",
              "      <td>3</td>\n",
              "      <td>1</td>\n",
              "      <td>0</td>\n",
              "      <td>2</td>\n",
              "    </tr>\n",
              "  </tbody>\n",
              "</table>\n",
              "</div>"
            ],
            "text/plain": [
              "          ID  Week2_Quiz1  Week3_MP1  ...  Week9_Stat2  Week9_Stat3  Grade\n",
              "0  ML-2020-1         5.00       15.0  ...            1            0      4\n",
              "1  ML-2020-2         3.33       15.0  ...            2            5      4\n",
              "2  ML-2020-3         1.67       13.0  ...            1            0      3\n",
              "3  ML-2020-4         2.50       14.0  ...            0            0      3\n",
              "4  ML-2020-6         0.00       15.0  ...            1            0      2\n",
              "\n",
              "[5 rows x 48 columns]"
            ]
          },
          "metadata": {},
          "execution_count": 13
        }
      ]
    },
    {
      "cell_type": "markdown",
      "metadata": {
        "id": "pMLNM3Ul9U_q"
      },
      "source": [
        "# Part 1 – Data Processing"
      ]
    },
    {
      "cell_type": "markdown",
      "metadata": {
        "id": "gANg8f8h9fPj"
      },
      "source": [
        "There is no need to keep ids for ML model, hence the id column is dropped."
      ]
    },
    {
      "cell_type": "code",
      "metadata": {
        "id": "fjG5ZBsq9eA-"
      },
      "source": [
        "df_grades.drop('ID', axis=1, inplace=True)"
      ],
      "execution_count": 14,
      "outputs": []
    },
    {
      "cell_type": "markdown",
      "metadata": {
        "id": "M9TmqSi8-Eyh"
      },
      "source": [
        "It will be checked if there any missing values or not"
      ]
    },
    {
      "cell_type": "code",
      "metadata": {
        "colab": {
          "base_uri": "https://localhost:8080/"
        },
        "id": "QlMujHcv-KIM",
        "outputId": "5b69d7d3-1ca2-45f0-bd97-4018016aa857"
      },
      "source": [
        "df_grades.isnull().any()"
      ],
      "execution_count": 15,
      "outputs": [
        {
          "output_type": "execute_result",
          "data": {
            "text/plain": [
              "Week2_Quiz1    False\n",
              "Week3_MP1      False\n",
              "Week3_PR1      False\n",
              "Week5_MP2      False\n",
              "Week5_PR2      False\n",
              "Week7_MP3      False\n",
              "Week7_PR3      False\n",
              "Week4_Quiz2    False\n",
              "Week6_Quiz3    False\n",
              "Week8_Total    False\n",
              "Week1_Stat0    False\n",
              "Week1_Stat1    False\n",
              "Week1_Stat2    False\n",
              "Week1_Stat3    False\n",
              "Week2_Stat0    False\n",
              "Week2_Stat1    False\n",
              "Week2_Stat2    False\n",
              "Week2_Stat3    False\n",
              "Week3_Stat0    False\n",
              "Week3_Stat1    False\n",
              "Week3_Stat2    False\n",
              "Week3_Stat3    False\n",
              "Week4_Stat0    False\n",
              "Week4_Stat1    False\n",
              "Week4_Stat2    False\n",
              "Week4_Stat3    False\n",
              "Week5_Stat0    False\n",
              "Week5_Stat1    False\n",
              "Week5_Stat2    False\n",
              "Week5_Stat3    False\n",
              "Week6_Stat0    False\n",
              "Week6_Stat1    False\n",
              "Week6_Stat2    False\n",
              "Week6_Stat3    False\n",
              "Week7_Stat0    False\n",
              "Week7_Stat1    False\n",
              "Week7_Stat2    False\n",
              "Week7_Stat3    False\n",
              "Week8_Stat0    False\n",
              "Week8_Stat1    False\n",
              "Week8_Stat2    False\n",
              "Week8_Stat3    False\n",
              "Week9_Stat0    False\n",
              "Week9_Stat1    False\n",
              "Week9_Stat2    False\n",
              "Week9_Stat3    False\n",
              "Grade          False\n",
              "dtype: bool"
            ]
          },
          "metadata": {},
          "execution_count": 15
        }
      ]
    },
    {
      "cell_type": "markdown",
      "metadata": {
        "id": "IKgjXHOk-zuJ"
      },
      "source": [
        "There is no missing values. However, it should be checked for if there is a column with all values are the same."
      ]
    },
    {
      "cell_type": "code",
      "metadata": {
        "colab": {
          "base_uri": "https://localhost:8080/"
        },
        "id": "2fyfJzNs_uVX",
        "outputId": "9aba0f5f-29f5-4036-a23a-8502b6aa3ab6"
      },
      "source": [
        "uniques = df_grades.apply(lambda x: x.nunique()) #calculates the number of unique values\n",
        "uniques"
      ],
      "execution_count": 16,
      "outputs": [
        {
          "output_type": "execute_result",
          "data": {
            "text/plain": [
              "Week2_Quiz1     7\n",
              "Week3_MP1       9\n",
              "Week3_PR1       2\n",
              "Week5_MP2      25\n",
              "Week5_PR2       5\n",
              "Week7_MP3      35\n",
              "Week7_PR3       3\n",
              "Week4_Quiz2    23\n",
              "Week6_Quiz3     7\n",
              "Week8_Total    70\n",
              "Week1_Stat0    25\n",
              "Week1_Stat1     1\n",
              "Week1_Stat2     6\n",
              "Week1_Stat3     4\n",
              "Week2_Stat0    37\n",
              "Week2_Stat1    25\n",
              "Week2_Stat2     8\n",
              "Week2_Stat3    12\n",
              "Week3_Stat0    59\n",
              "Week3_Stat1     8\n",
              "Week3_Stat2     9\n",
              "Week3_Stat3     9\n",
              "Week4_Stat0    61\n",
              "Week4_Stat1    37\n",
              "Week4_Stat2    11\n",
              "Week4_Stat3     8\n",
              "Week5_Stat0    48\n",
              "Week5_Stat1    20\n",
              "Week5_Stat2    12\n",
              "Week5_Stat3     8\n",
              "Week6_Stat0    49\n",
              "Week6_Stat1    32\n",
              "Week6_Stat2    13\n",
              "Week6_Stat3     7\n",
              "Week7_Stat0    42\n",
              "Week7_Stat1    18\n",
              "Week7_Stat2    11\n",
              "Week7_Stat3    10\n",
              "Week8_Stat0    32\n",
              "Week8_Stat1    16\n",
              "Week8_Stat2     9\n",
              "Week8_Stat3     6\n",
              "Week9_Stat0    26\n",
              "Week9_Stat1    11\n",
              "Week9_Stat2    11\n",
              "Week9_Stat3     2\n",
              "Grade           5\n",
              "dtype: int64"
            ]
          },
          "metadata": {},
          "execution_count": 16
        }
      ]
    },
    {
      "cell_type": "markdown",
      "metadata": {
        "id": "jKX7C-kBAO81"
      },
      "source": [
        "All values are the same in Week1_Stat1, there is no need to have it in our data so it is dropped."
      ]
    },
    {
      "cell_type": "code",
      "metadata": {
        "id": "n9knYC1IAdUH"
      },
      "source": [
        "df_grades.drop('Week1_Stat1', axis=1, inplace=True)"
      ],
      "execution_count": 17,
      "outputs": []
    },
    {
      "cell_type": "markdown",
      "metadata": {
        "id": "S1H1CwPcmmrq"
      },
      "source": [
        "There are two target values in the datasets, one is Week8_Total and the other is Grade. Since the grade is calculated by Week8_Total, it should not be included as a feature. Otherwise, the model can predict the student's grade by only checking Week8_Total feature. Hence, Week8_Total is dropped and only grade is used for target."
      ]
    },
    {
      "cell_type": "code",
      "metadata": {
        "id": "Fpaoz58EmnsU"
      },
      "source": [
        "df_grades.drop('Week8_Total', axis=1, inplace=True)"
      ],
      "execution_count": 18,
      "outputs": []
    },
    {
      "cell_type": "markdown",
      "metadata": {
        "id": "WcxmmlsEAtui"
      },
      "source": [
        "Now, we can get info about the dataframe which will be used for machine learning"
      ]
    },
    {
      "cell_type": "code",
      "metadata": {
        "colab": {
          "base_uri": "https://localhost:8080/"
        },
        "id": "7QWUzWeGAnVG",
        "outputId": "6c3721ae-b94b-4472-8612-74e5567994a0"
      },
      "source": [
        "df_grades.info()"
      ],
      "execution_count": 19,
      "outputs": [
        {
          "output_type": "stream",
          "name": "stdout",
          "text": [
            "<class 'pandas.core.frame.DataFrame'>\n",
            "RangeIndex: 107 entries, 0 to 106\n",
            "Data columns (total 45 columns):\n",
            " #   Column       Non-Null Count  Dtype  \n",
            "---  ------       --------------  -----  \n",
            " 0   Week2_Quiz1  107 non-null    float64\n",
            " 1   Week3_MP1    107 non-null    float64\n",
            " 2   Week3_PR1    107 non-null    float64\n",
            " 3   Week5_MP2    107 non-null    float64\n",
            " 4   Week5_PR2    107 non-null    float64\n",
            " 5   Week7_MP3    107 non-null    float64\n",
            " 6   Week7_PR3    107 non-null    float64\n",
            " 7   Week4_Quiz2  107 non-null    float64\n",
            " 8   Week6_Quiz3  107 non-null    float64\n",
            " 9   Week1_Stat0  107 non-null    int64  \n",
            " 10  Week1_Stat2  107 non-null    int64  \n",
            " 11  Week1_Stat3  107 non-null    int64  \n",
            " 12  Week2_Stat0  107 non-null    int64  \n",
            " 13  Week2_Stat1  107 non-null    int64  \n",
            " 14  Week2_Stat2  107 non-null    int64  \n",
            " 15  Week2_Stat3  107 non-null    int64  \n",
            " 16  Week3_Stat0  107 non-null    int64  \n",
            " 17  Week3_Stat1  107 non-null    int64  \n",
            " 18  Week3_Stat2  107 non-null    int64  \n",
            " 19  Week3_Stat3  107 non-null    int64  \n",
            " 20  Week4_Stat0  107 non-null    int64  \n",
            " 21  Week4_Stat1  107 non-null    int64  \n",
            " 22  Week4_Stat2  107 non-null    int64  \n",
            " 23  Week4_Stat3  107 non-null    int64  \n",
            " 24  Week5_Stat0  107 non-null    int64  \n",
            " 25  Week5_Stat1  107 non-null    int64  \n",
            " 26  Week5_Stat2  107 non-null    int64  \n",
            " 27  Week5_Stat3  107 non-null    int64  \n",
            " 28  Week6_Stat0  107 non-null    int64  \n",
            " 29  Week6_Stat1  107 non-null    int64  \n",
            " 30  Week6_Stat2  107 non-null    int64  \n",
            " 31  Week6_Stat3  107 non-null    int64  \n",
            " 32  Week7_Stat0  107 non-null    int64  \n",
            " 33  Week7_Stat1  107 non-null    int64  \n",
            " 34  Week7_Stat2  107 non-null    int64  \n",
            " 35  Week7_Stat3  107 non-null    int64  \n",
            " 36  Week8_Stat0  107 non-null    int64  \n",
            " 37  Week8_Stat1  107 non-null    int64  \n",
            " 38  Week8_Stat2  107 non-null    int64  \n",
            " 39  Week8_Stat3  107 non-null    int64  \n",
            " 40  Week9_Stat0  107 non-null    int64  \n",
            " 41  Week9_Stat1  107 non-null    int64  \n",
            " 42  Week9_Stat2  107 non-null    int64  \n",
            " 43  Week9_Stat3  107 non-null    int64  \n",
            " 44  Grade        107 non-null    int64  \n",
            "dtypes: float64(9), int64(36)\n",
            "memory usage: 37.7 KB\n"
          ]
        }
      ]
    },
    {
      "cell_type": "markdown",
      "metadata": {
        "id": "CpVqKTb4A4gA"
      },
      "source": [
        "# Part 2 – Training & Test Dataset"
      ]
    },
    {
      "cell_type": "code",
      "metadata": {
        "id": "FGx7ErvsM4hb"
      },
      "source": [
        "df_x = df_grades.drop('Grade', axis=1) # these are features\n",
        "df_y = df_grades['Grade']  # this is the target (what we want to predict)"
      ],
      "execution_count": 20,
      "outputs": []
    },
    {
      "cell_type": "code",
      "metadata": {
        "id": "CyYq0HosNzQv"
      },
      "source": [
        "# This will create train and test datasets from the original dataset that we have where\n",
        "# 75% of original dataframe will be train set and 25% of it will be test set to evaluate the model\n",
        "X_train, X_test, y_train, y_test = train_test_split(df_x, df_y, random_state=42, test_size=0.25)"
      ],
      "execution_count": 21,
      "outputs": []
    },
    {
      "cell_type": "code",
      "metadata": {
        "colab": {
          "base_uri": "https://localhost:8080/"
        },
        "id": "UgHpjoNcOxOZ",
        "outputId": "84e878f7-cd4e-4a51-b8d5-e90465eaa367"
      },
      "source": [
        "print(\"Shape of Train Dataset: \" + str(X_train.shape))\n",
        "print(\"Shape of Test Dataset: \" + str(X_test.shape))"
      ],
      "execution_count": 22,
      "outputs": [
        {
          "output_type": "stream",
          "name": "stdout",
          "text": [
            "Shape of Train Dataset: (80, 44)\n",
            "Shape of Test Dataset: (27, 44)\n"
          ]
        }
      ]
    },
    {
      "cell_type": "markdown",
      "metadata": {
        "id": "WJ4MSVyoPUWr"
      },
      "source": [
        "# Part 3 – Train the Model"
      ]
    },
    {
      "cell_type": "markdown",
      "metadata": {
        "id": "O_rwsQq-PY6V"
      },
      "source": [
        "## 1) Random Forest"
      ]
    },
    {
      "cell_type": "code",
      "metadata": {
        "colab": {
          "base_uri": "https://localhost:8080/"
        },
        "id": "N2nfT_apPdXG",
        "outputId": "5284e077-085a-462a-87f8-5bb4f3a03b92"
      },
      "source": [
        "# Load scikit's random forest classifier library\n",
        "from sklearn.ensemble import RandomForestClassifier\n",
        "\n",
        "RF_model = RandomForestClassifier(n_estimators=10,n_jobs=2, random_state=0).fit(X_train, y_train)\n",
        "RF_model"
      ],
      "execution_count": 85,
      "outputs": [
        {
          "output_type": "execute_result",
          "data": {
            "text/plain": [
              "RandomForestClassifier(bootstrap=True, ccp_alpha=0.0, class_weight=None,\n",
              "                       criterion='gini', max_depth=None, max_features='auto',\n",
              "                       max_leaf_nodes=None, max_samples=None,\n",
              "                       min_impurity_decrease=0.0, min_impurity_split=None,\n",
              "                       min_samples_leaf=1, min_samples_split=2,\n",
              "                       min_weight_fraction_leaf=0.0, n_estimators=10, n_jobs=2,\n",
              "                       oob_score=False, random_state=0, verbose=0,\n",
              "                       warm_start=False)"
            ]
          },
          "metadata": {},
          "execution_count": 85
        }
      ]
    },
    {
      "cell_type": "code",
      "metadata": {
        "colab": {
          "base_uri": "https://localhost:8080/"
        },
        "id": "1bRahIwRQfWY",
        "outputId": "04171a31-eb12-493e-a43d-3189b9f293cf"
      },
      "source": [
        "score = RF_model.score(X_train, y_train)\n",
        "print(\"Random Forest Train Score:\",str(round(score,3)))"
      ],
      "execution_count": 86,
      "outputs": [
        {
          "output_type": "stream",
          "name": "stdout",
          "text": [
            "Random Forest Train Score: 1.0\n"
          ]
        }
      ]
    },
    {
      "cell_type": "code",
      "metadata": {
        "colab": {
          "base_uri": "https://localhost:8080/"
        },
        "id": "I6yUb22tQrAi",
        "outputId": "6bf70313-a872-4ad4-b184-c6b5976bda90"
      },
      "source": [
        "predictions = RF_model.predict(X_train)\n",
        "print(classification_report(y_train,predictions))"
      ],
      "execution_count": 87,
      "outputs": [
        {
          "output_type": "stream",
          "name": "stdout",
          "text": [
            "              precision    recall  f1-score   support\n",
            "\n",
            "           0       1.00      1.00      1.00        38\n",
            "           2       1.00      1.00      1.00         2\n",
            "           3       1.00      1.00      1.00        14\n",
            "           4       1.00      1.00      1.00        17\n",
            "           5       1.00      1.00      1.00         9\n",
            "\n",
            "    accuracy                           1.00        80\n",
            "   macro avg       1.00      1.00      1.00        80\n",
            "weighted avg       1.00      1.00      1.00        80\n",
            "\n"
          ]
        }
      ]
    },
    {
      "cell_type": "markdown",
      "metadata": {
        "id": "hGgFN5pLQzPC"
      },
      "source": [
        "Testing"
      ]
    },
    {
      "cell_type": "code",
      "metadata": {
        "colab": {
          "base_uri": "https://localhost:8080/"
        },
        "id": "TUyiGZroQ0cE",
        "outputId": "fe6870e9-c0b3-49f0-da83-6da836c71692"
      },
      "source": [
        "score = RF_model.score(X_test, y_test)\n",
        "print(\"Random Forest Test Score:\", str(round(score,3)))"
      ],
      "execution_count": 88,
      "outputs": [
        {
          "output_type": "stream",
          "name": "stdout",
          "text": [
            "Random Forest Test Score: 0.63\n"
          ]
        }
      ]
    },
    {
      "cell_type": "code",
      "metadata": {
        "colab": {
          "base_uri": "https://localhost:8080/"
        },
        "id": "fed568vLQ_rc",
        "outputId": "7654b8fa-c8b8-4859-dd2c-d63acb0a10b8"
      },
      "source": [
        "predictions = RF_model.predict(X_test)\n",
        "print(classification_report(y_test,predictions))"
      ],
      "execution_count": 89,
      "outputs": [
        {
          "output_type": "stream",
          "name": "stdout",
          "text": [
            "              precision    recall  f1-score   support\n",
            "\n",
            "           0       1.00      1.00      1.00        10\n",
            "           2       0.00      0.00      0.00         3\n",
            "           3       0.25      0.67      0.36         3\n",
            "           4       0.62      0.71      0.67         7\n",
            "           5       0.00      0.00      0.00         4\n",
            "\n",
            "    accuracy                           0.63        27\n",
            "   macro avg       0.38      0.48      0.41        27\n",
            "weighted avg       0.56      0.63      0.58        27\n",
            "\n"
          ]
        },
        {
          "output_type": "stream",
          "name": "stderr",
          "text": [
            "/usr/local/lib/python3.7/dist-packages/sklearn/metrics/_classification.py:1272: UndefinedMetricWarning: Precision and F-score are ill-defined and being set to 0.0 in labels with no predicted samples. Use `zero_division` parameter to control this behavior.\n",
            "  _warn_prf(average, modifier, msg_start, len(result))\n"
          ]
        }
      ]
    },
    {
      "cell_type": "code",
      "metadata": {
        "colab": {
          "base_uri": "https://localhost:8080/"
        },
        "id": "pK4FFtNpRHVv",
        "outputId": "c007ba0d-ac9b-49d5-cc4a-1f91177bcb05"
      },
      "source": [
        "print(confusion_matrix(y_test, predictions))"
      ],
      "execution_count": 90,
      "outputs": [
        {
          "output_type": "stream",
          "name": "stdout",
          "text": [
            "[[10  0  0  0  0]\n",
            " [ 0  0  2  1  0]\n",
            " [ 0  0  2  1  0]\n",
            " [ 0  0  1  5  1]\n",
            " [ 0  0  3  1  0]]\n"
          ]
        }
      ]
    },
    {
      "cell_type": "code",
      "metadata": {
        "colab": {
          "base_uri": "https://localhost:8080/",
          "height": 238
        },
        "id": "Cj_7dtxuRTsJ",
        "outputId": "3f58c50a-a724-4624-d8fc-10131edc2101"
      },
      "source": [
        "#Create a confusion Matrix\n",
        "pd.crosstab(y_test, predictions, rownames=['Actual Grades'], colnames=['Predicted Grades'])"
      ],
      "execution_count": 91,
      "outputs": [
        {
          "output_type": "execute_result",
          "data": {
            "text/html": [
              "<div>\n",
              "<style scoped>\n",
              "    .dataframe tbody tr th:only-of-type {\n",
              "        vertical-align: middle;\n",
              "    }\n",
              "\n",
              "    .dataframe tbody tr th {\n",
              "        vertical-align: top;\n",
              "    }\n",
              "\n",
              "    .dataframe thead th {\n",
              "        text-align: right;\n",
              "    }\n",
              "</style>\n",
              "<table border=\"1\" class=\"dataframe\">\n",
              "  <thead>\n",
              "    <tr style=\"text-align: right;\">\n",
              "      <th>Predicted Grades</th>\n",
              "      <th>0</th>\n",
              "      <th>3</th>\n",
              "      <th>4</th>\n",
              "      <th>5</th>\n",
              "    </tr>\n",
              "    <tr>\n",
              "      <th>Actual Grades</th>\n",
              "      <th></th>\n",
              "      <th></th>\n",
              "      <th></th>\n",
              "      <th></th>\n",
              "    </tr>\n",
              "  </thead>\n",
              "  <tbody>\n",
              "    <tr>\n",
              "      <th>0</th>\n",
              "      <td>10</td>\n",
              "      <td>0</td>\n",
              "      <td>0</td>\n",
              "      <td>0</td>\n",
              "    </tr>\n",
              "    <tr>\n",
              "      <th>2</th>\n",
              "      <td>0</td>\n",
              "      <td>2</td>\n",
              "      <td>1</td>\n",
              "      <td>0</td>\n",
              "    </tr>\n",
              "    <tr>\n",
              "      <th>3</th>\n",
              "      <td>0</td>\n",
              "      <td>2</td>\n",
              "      <td>1</td>\n",
              "      <td>0</td>\n",
              "    </tr>\n",
              "    <tr>\n",
              "      <th>4</th>\n",
              "      <td>0</td>\n",
              "      <td>1</td>\n",
              "      <td>5</td>\n",
              "      <td>1</td>\n",
              "    </tr>\n",
              "    <tr>\n",
              "      <th>5</th>\n",
              "      <td>0</td>\n",
              "      <td>3</td>\n",
              "      <td>1</td>\n",
              "      <td>0</td>\n",
              "    </tr>\n",
              "  </tbody>\n",
              "</table>\n",
              "</div>"
            ],
            "text/plain": [
              "Predicted Grades   0  3  4  5\n",
              "Actual Grades                \n",
              "0                 10  0  0  0\n",
              "2                  0  2  1  0\n",
              "3                  0  2  1  0\n",
              "4                  0  1  5  1\n",
              "5                  0  3  1  0"
            ]
          },
          "metadata": {},
          "execution_count": 91
        }
      ]
    },
    {
      "cell_type": "markdown",
      "metadata": {
        "id": "AY7tss-ZSz2D"
      },
      "source": [
        "## 2) k-NN"
      ]
    },
    {
      "cell_type": "code",
      "metadata": {
        "colab": {
          "base_uri": "https://localhost:8080/"
        },
        "id": "-hMf56vxS2o0",
        "outputId": "e55fd870-731e-4893-c7d1-565e0c675241"
      },
      "source": [
        "from sklearn import neighbors\n",
        "knn = neighbors.KNeighborsClassifier(n_neighbors=3)\n",
        "\n",
        "#Fitting the training set\n",
        "knn.fit(X_train, y_train) \n",
        "knn"
      ],
      "execution_count": 99,
      "outputs": [
        {
          "output_type": "execute_result",
          "data": {
            "text/plain": [
              "KNeighborsClassifier(algorithm='auto', leaf_size=30, metric='minkowski',\n",
              "                     metric_params=None, n_jobs=None, n_neighbors=3, p=2,\n",
              "                     weights='uniform')"
            ]
          },
          "metadata": {},
          "execution_count": 99
        }
      ]
    },
    {
      "cell_type": "code",
      "metadata": {
        "colab": {
          "base_uri": "https://localhost:8080/"
        },
        "id": "dmRz463UTk79",
        "outputId": "e2eab748-422f-48f5-8562-a710ae8cda5b"
      },
      "source": [
        "score = knn.score(X_train, y_train)\n",
        "print(\"Training score of kNN:\", str(round(score,3)))"
      ],
      "execution_count": 100,
      "outputs": [
        {
          "output_type": "stream",
          "name": "stdout",
          "text": [
            "Training score of kNN: 0.775\n"
          ]
        }
      ]
    },
    {
      "cell_type": "code",
      "metadata": {
        "colab": {
          "base_uri": "https://localhost:8080/"
        },
        "id": "xTv7sSJwTq0Q",
        "outputId": "a9c5ac09-dc47-4e44-afa1-2c12d4599f17"
      },
      "source": [
        "score = knn.score(X_test, y_test)\n",
        "print(\"Test score of kNN:\",str(round(score,3)))"
      ],
      "execution_count": 101,
      "outputs": [
        {
          "output_type": "stream",
          "name": "stdout",
          "text": [
            "Test score of kNN: 0.593\n"
          ]
        }
      ]
    },
    {
      "cell_type": "code",
      "metadata": {
        "colab": {
          "base_uri": "https://localhost:8080/",
          "height": 238
        },
        "id": "pk8WMftyUn9m",
        "outputId": "e1a4db20-c9f3-4f75-98a4-ffc8da6add37"
      },
      "source": [
        "#Create a confusion Matrix\n",
        "predictions = knn.predict(X_test)\n",
        "pd.crosstab(y_test, predictions, rownames=['Actual Grades'], colnames=['Predicted Grades'])"
      ],
      "execution_count": 102,
      "outputs": [
        {
          "output_type": "execute_result",
          "data": {
            "text/html": [
              "<div>\n",
              "<style scoped>\n",
              "    .dataframe tbody tr th:only-of-type {\n",
              "        vertical-align: middle;\n",
              "    }\n",
              "\n",
              "    .dataframe tbody tr th {\n",
              "        vertical-align: top;\n",
              "    }\n",
              "\n",
              "    .dataframe thead th {\n",
              "        text-align: right;\n",
              "    }\n",
              "</style>\n",
              "<table border=\"1\" class=\"dataframe\">\n",
              "  <thead>\n",
              "    <tr style=\"text-align: right;\">\n",
              "      <th>Predicted Grades</th>\n",
              "      <th>0</th>\n",
              "      <th>2</th>\n",
              "      <th>3</th>\n",
              "      <th>4</th>\n",
              "    </tr>\n",
              "    <tr>\n",
              "      <th>Actual Grades</th>\n",
              "      <th></th>\n",
              "      <th></th>\n",
              "      <th></th>\n",
              "      <th></th>\n",
              "    </tr>\n",
              "  </thead>\n",
              "  <tbody>\n",
              "    <tr>\n",
              "      <th>0</th>\n",
              "      <td>10</td>\n",
              "      <td>0</td>\n",
              "      <td>0</td>\n",
              "      <td>0</td>\n",
              "    </tr>\n",
              "    <tr>\n",
              "      <th>2</th>\n",
              "      <td>0</td>\n",
              "      <td>1</td>\n",
              "      <td>2</td>\n",
              "      <td>0</td>\n",
              "    </tr>\n",
              "    <tr>\n",
              "      <th>3</th>\n",
              "      <td>0</td>\n",
              "      <td>0</td>\n",
              "      <td>3</td>\n",
              "      <td>0</td>\n",
              "    </tr>\n",
              "    <tr>\n",
              "      <th>4</th>\n",
              "      <td>1</td>\n",
              "      <td>1</td>\n",
              "      <td>3</td>\n",
              "      <td>2</td>\n",
              "    </tr>\n",
              "    <tr>\n",
              "      <th>5</th>\n",
              "      <td>1</td>\n",
              "      <td>1</td>\n",
              "      <td>2</td>\n",
              "      <td>0</td>\n",
              "    </tr>\n",
              "  </tbody>\n",
              "</table>\n",
              "</div>"
            ],
            "text/plain": [
              "Predicted Grades   0  2  3  4\n",
              "Actual Grades                \n",
              "0                 10  0  0  0\n",
              "2                  0  1  2  0\n",
              "3                  0  0  3  0\n",
              "4                  1  1  3  2\n",
              "5                  1  1  2  0"
            ]
          },
          "metadata": {},
          "execution_count": 102
        }
      ]
    },
    {
      "cell_type": "markdown",
      "metadata": {
        "id": "02bhqZQHudrs"
      },
      "source": [
        "## 3) Decision Tree"
      ]
    },
    {
      "cell_type": "code",
      "metadata": {
        "colab": {
          "base_uri": "https://localhost:8080/"
        },
        "id": "zU4U7U0vug7L",
        "outputId": "5ea8042d-8e6f-43f3-c81b-67381b368a8f"
      },
      "source": [
        "from sklearn.tree import DecisionTreeClassifier # Import Decision Tree Classifier\n",
        "from sklearn import tree\n",
        "\n",
        "dtree = DecisionTreeClassifier()\n",
        "#Fitting the training set\n",
        "dtree.fit(X_train, y_train) \n",
        "dtree"
      ],
      "execution_count": 103,
      "outputs": [
        {
          "output_type": "execute_result",
          "data": {
            "text/plain": [
              "DecisionTreeClassifier(ccp_alpha=0.0, class_weight=None, criterion='gini',\n",
              "                       max_depth=None, max_features=None, max_leaf_nodes=None,\n",
              "                       min_impurity_decrease=0.0, min_impurity_split=None,\n",
              "                       min_samples_leaf=1, min_samples_split=2,\n",
              "                       min_weight_fraction_leaf=0.0, presort='deprecated',\n",
              "                       random_state=None, splitter='best')"
            ]
          },
          "metadata": {},
          "execution_count": 103
        }
      ]
    },
    {
      "cell_type": "code",
      "metadata": {
        "colab": {
          "base_uri": "https://localhost:8080/"
        },
        "id": "swZHZnVwu_Bp",
        "outputId": "b13f06bd-eba6-45b0-e28f-7b182ce23684"
      },
      "source": [
        "score = dtree.score(X_train, y_train)\n",
        "print(\"Training score of Decision Tree:\", str(round(score,3)))"
      ],
      "execution_count": 35,
      "outputs": [
        {
          "output_type": "stream",
          "name": "stdout",
          "text": [
            "Training score of Decision Tree: 1.0\n"
          ]
        }
      ]
    },
    {
      "cell_type": "code",
      "metadata": {
        "colab": {
          "base_uri": "https://localhost:8080/",
          "height": 238
        },
        "id": "j9i3aEYfz9KC",
        "outputId": "b364edd7-75e3-43bb-80c0-28647a30cd8f"
      },
      "source": [
        "#Create a confusion Matrix\n",
        "predictions = dtree.predict(X_train)\n",
        "pd.crosstab(y_train, predictions, rownames=['Actual Grades'], colnames=['Predicted Grades'])"
      ],
      "execution_count": 36,
      "outputs": [
        {
          "output_type": "execute_result",
          "data": {
            "text/html": [
              "<div>\n",
              "<style scoped>\n",
              "    .dataframe tbody tr th:only-of-type {\n",
              "        vertical-align: middle;\n",
              "    }\n",
              "\n",
              "    .dataframe tbody tr th {\n",
              "        vertical-align: top;\n",
              "    }\n",
              "\n",
              "    .dataframe thead th {\n",
              "        text-align: right;\n",
              "    }\n",
              "</style>\n",
              "<table border=\"1\" class=\"dataframe\">\n",
              "  <thead>\n",
              "    <tr style=\"text-align: right;\">\n",
              "      <th>Predicted Grades</th>\n",
              "      <th>0</th>\n",
              "      <th>2</th>\n",
              "      <th>3</th>\n",
              "      <th>4</th>\n",
              "      <th>5</th>\n",
              "    </tr>\n",
              "    <tr>\n",
              "      <th>Actual Grades</th>\n",
              "      <th></th>\n",
              "      <th></th>\n",
              "      <th></th>\n",
              "      <th></th>\n",
              "      <th></th>\n",
              "    </tr>\n",
              "  </thead>\n",
              "  <tbody>\n",
              "    <tr>\n",
              "      <th>0</th>\n",
              "      <td>38</td>\n",
              "      <td>0</td>\n",
              "      <td>0</td>\n",
              "      <td>0</td>\n",
              "      <td>0</td>\n",
              "    </tr>\n",
              "    <tr>\n",
              "      <th>2</th>\n",
              "      <td>0</td>\n",
              "      <td>2</td>\n",
              "      <td>0</td>\n",
              "      <td>0</td>\n",
              "      <td>0</td>\n",
              "    </tr>\n",
              "    <tr>\n",
              "      <th>3</th>\n",
              "      <td>0</td>\n",
              "      <td>0</td>\n",
              "      <td>14</td>\n",
              "      <td>0</td>\n",
              "      <td>0</td>\n",
              "    </tr>\n",
              "    <tr>\n",
              "      <th>4</th>\n",
              "      <td>0</td>\n",
              "      <td>0</td>\n",
              "      <td>0</td>\n",
              "      <td>17</td>\n",
              "      <td>0</td>\n",
              "    </tr>\n",
              "    <tr>\n",
              "      <th>5</th>\n",
              "      <td>0</td>\n",
              "      <td>0</td>\n",
              "      <td>0</td>\n",
              "      <td>0</td>\n",
              "      <td>9</td>\n",
              "    </tr>\n",
              "  </tbody>\n",
              "</table>\n",
              "</div>"
            ],
            "text/plain": [
              "Predicted Grades   0  2   3   4  5\n",
              "Actual Grades                     \n",
              "0                 38  0   0   0  0\n",
              "2                  0  2   0   0  0\n",
              "3                  0  0  14   0  0\n",
              "4                  0  0   0  17  0\n",
              "5                  0  0   0   0  9"
            ]
          },
          "metadata": {},
          "execution_count": 36
        }
      ]
    },
    {
      "cell_type": "code",
      "metadata": {
        "colab": {
          "base_uri": "https://localhost:8080/"
        },
        "id": "rLpL5lO7vDav",
        "outputId": "debf7ce2-b12f-4e45-8f7e-053359a8e6b1"
      },
      "source": [
        "score = dtree.score(X_test, y_test)\n",
        "print(\"Test score of Decision Tree:\",str(round(score,3)))"
      ],
      "execution_count": 37,
      "outputs": [
        {
          "output_type": "stream",
          "name": "stdout",
          "text": [
            "Test score of Decision Tree: 0.778\n"
          ]
        }
      ]
    },
    {
      "cell_type": "code",
      "metadata": {
        "colab": {
          "base_uri": "https://localhost:8080/",
          "height": 238
        },
        "id": "AVAHbppavIIs",
        "outputId": "42e9da4c-2d04-4126-a40f-efa88ef90802"
      },
      "source": [
        "#Create a confusion Matrix\n",
        "predictions = dtree.predict(X_test)\n",
        "pd.crosstab(y_test, predictions, rownames=['Actual Grades'], colnames=['Predicted Grades'])"
      ],
      "execution_count": 38,
      "outputs": [
        {
          "output_type": "execute_result",
          "data": {
            "text/html": [
              "<div>\n",
              "<style scoped>\n",
              "    .dataframe tbody tr th:only-of-type {\n",
              "        vertical-align: middle;\n",
              "    }\n",
              "\n",
              "    .dataframe tbody tr th {\n",
              "        vertical-align: top;\n",
              "    }\n",
              "\n",
              "    .dataframe thead th {\n",
              "        text-align: right;\n",
              "    }\n",
              "</style>\n",
              "<table border=\"1\" class=\"dataframe\">\n",
              "  <thead>\n",
              "    <tr style=\"text-align: right;\">\n",
              "      <th>Predicted Grades</th>\n",
              "      <th>0</th>\n",
              "      <th>3</th>\n",
              "      <th>4</th>\n",
              "      <th>5</th>\n",
              "    </tr>\n",
              "    <tr>\n",
              "      <th>Actual Grades</th>\n",
              "      <th></th>\n",
              "      <th></th>\n",
              "      <th></th>\n",
              "      <th></th>\n",
              "    </tr>\n",
              "  </thead>\n",
              "  <tbody>\n",
              "    <tr>\n",
              "      <th>0</th>\n",
              "      <td>10</td>\n",
              "      <td>0</td>\n",
              "      <td>0</td>\n",
              "      <td>0</td>\n",
              "    </tr>\n",
              "    <tr>\n",
              "      <th>2</th>\n",
              "      <td>1</td>\n",
              "      <td>2</td>\n",
              "      <td>0</td>\n",
              "      <td>0</td>\n",
              "    </tr>\n",
              "    <tr>\n",
              "      <th>3</th>\n",
              "      <td>0</td>\n",
              "      <td>3</td>\n",
              "      <td>0</td>\n",
              "      <td>0</td>\n",
              "    </tr>\n",
              "    <tr>\n",
              "      <th>4</th>\n",
              "      <td>0</td>\n",
              "      <td>1</td>\n",
              "      <td>5</td>\n",
              "      <td>1</td>\n",
              "    </tr>\n",
              "    <tr>\n",
              "      <th>5</th>\n",
              "      <td>0</td>\n",
              "      <td>1</td>\n",
              "      <td>0</td>\n",
              "      <td>3</td>\n",
              "    </tr>\n",
              "  </tbody>\n",
              "</table>\n",
              "</div>"
            ],
            "text/plain": [
              "Predicted Grades   0  3  4  5\n",
              "Actual Grades                \n",
              "0                 10  0  0  0\n",
              "2                  1  2  0  0\n",
              "3                  0  3  0  0\n",
              "4                  0  1  5  1\n",
              "5                  0  1  0  3"
            ]
          },
          "metadata": {},
          "execution_count": 38
        }
      ]
    },
    {
      "cell_type": "code",
      "metadata": {
        "colab": {
          "base_uri": "https://localhost:8080/",
          "height": 683
        },
        "id": "eMP-yiWnwZWG",
        "outputId": "7692fd38-5212-4b88-b7af-dc64d893917b"
      },
      "source": [
        "from matplotlib import pyplot as plt\n",
        "fig = plt.figure(figsize=(15,12))\n",
        "_ = tree.plot_tree(dtree, \n",
        "                   feature_names=list(X_train.columns),  \n",
        "                   class_names=[\"0\",\"2\",\"3\",\"4\",\"5\"],\n",
        "                   filled=True)"
      ],
      "execution_count": 43,
      "outputs": [
        {
          "output_type": "display_data",
          "data": {
            "image/png": "[encoded data removed]",
            "text/plain": [
              "<Figure size 1080x864 with 1 Axes>"
            ]
          },
          "metadata": {
            "needs_background": "light"
          }
        }
      ]
    },
    {
      "cell_type": "markdown",
      "metadata": {
        "id": "9eCgcrQWX-pb"
      },
      "source": [
        "## Why Random Forest is better than kNN?"
      ]
    },
    {
      "cell_type": "markdown",
      "metadata": {
        "id": "kuMvXfmWYFVL"
      },
      "source": [
        "Students grade data is high dimensional (45 dimensions) and has a small number of samples (107 samples).\n",
        "\n",
        "kNN is effective when there is a large number of training samples but in this problem there is not much data. On the other hand, Random Forest can handle high dimensional spaces very well and can have good results even if the number of samples is not high.\n"
      ]
    },
    {
      "cell_type": "markdown",
      "metadata": {
        "id": "WMN4yk82321G"
      },
      "source": [
        "## Why Decision Tree is the best model for this problem?"
      ]
    },
    {
      "cell_type": "markdown",
      "metadata": {
        "id": "VMHAYrQk3-6t"
      },
      "source": [
        "The reason why Decision Tree is the best model for this problem is that there are too many features and some of them are much important than the others. Since random forest selecting the features randomly, it uses the features with has very low importance. On the other hand, the decision tree chooses only the most important features and fits the data better and as a result has a higher accuracy than random forest."
      ]
    },
    {
      "cell_type": "markdown",
      "metadata": {
        "id": "9IATuon6ZrF-"
      },
      "source": [
        "# Part 4 – Performance Evaluation"
      ]
    },
    {
      "cell_type": "markdown",
      "metadata": {
        "id": "RXbNqhZSvaxf"
      },
      "source": [
        "Random Forest could be generated any number of trees, to decided how many trees should be used the model has been developed again and again with different number of trees. It is seen that the best result is with 15 trees, and using less then 10 trees could cause a low accuracy."
      ]
    },
    {
      "cell_type": "code",
      "metadata": {
        "id": "HG0KoMBZ4f45",
        "colab": {
          "base_uri": "https://localhost:8080/",
          "height": 404
        },
        "outputId": "3a1e4001-6a17-464f-ce4a-d374e075f64a"
      },
      "source": [
        "from sklearn.metrics import accuracy_score\n",
        "\n",
        "accuracy_list_test=[]\n",
        "\n",
        "n_estimators=[5,7,9,10,13,15,18,21,24]\n",
        "\n",
        "for n in n_estimators:\n",
        "  new_model = RandomForestClassifier(n_estimators=n,n_jobs=2, random_state=0)\n",
        "  new_model.fit(X_train, y_train)\n",
        "  predicted_values_test=new_model.predict(X_test)\n",
        "  accuracy_list_test.append(accuracy_score(y_test, predicted_values_test))\n",
        "\n",
        "plt.figure(figsize=(12, 6))  \n",
        "plt.plot(n_estimators, accuracy_list_test, color='green', linestyle='dashed', marker='o',markerfacecolor='blue', markersize=10, label=\"test_accuracy\")\n",
        "plt.title('Test Accuracy vs # of trees')  \n",
        "plt.xlabel('Number of Trees')  \n",
        "plt.ylabel('Accuracy') \n",
        "plt.legend(loc=\"upper right\")\n",
        "plt.show()"
      ],
      "execution_count": 96,
      "outputs": [
        {
          "output_type": "display_data",
          "data": {
            "image/png": "[encoded data removed]",
            "text/plain": [
              "<Figure size 864x432 with 1 Axes>"
            ]
          },
          "metadata": {
            "needs_background": "light"
          }
        }
      ]
    },
    {
      "cell_type": "markdown",
      "metadata": {
        "id": "8r0p5vrEwl2F"
      },
      "source": [
        "Another study has done for k-NN algorithm and for its number of neighbors. Using 1 or 3 neighbors leads to around 0.6 accuracy and using 5 or more is leading around 0.52 accuracy."
      ]
    },
    {
      "cell_type": "code",
      "metadata": {
        "colab": {
          "base_uri": "https://localhost:8080/",
          "height": 404
        },
        "id": "7UP8Ml-rtJq_",
        "outputId": "a14902bf-5767-429a-f21a-6beb9cda36bb"
      },
      "source": [
        "accuracy_list_test=[]\n",
        "\n",
        "neighbors_=[1,3,5,7,9]\n",
        "\n",
        "for n in neighbors_:\n",
        "  new_model = neighbors.KNeighborsClassifier(n_neighbors=n)\n",
        "  new_model.fit(X_train, y_train)\n",
        "  predicted_values_test=new_model.predict(X_test)\n",
        "  accuracy_list_test.append(accuracy_score(y_test, predicted_values_test))\n",
        "\n",
        "plt.figure(figsize=(12, 6))  \n",
        "plt.plot(neighbors_, accuracy_list_test, color='red', linestyle='dashed', marker='o',markerfacecolor='blue', markersize=10, label=\"test_accuracy\")\n",
        "plt.title('Test Accuracy vs # of neighbors')  \n",
        "plt.xlabel('Number of neighbors')  \n",
        "plt.ylabel('Accuracy') \n",
        "plt.legend(loc=\"upper right\")\n",
        "plt.show()"
      ],
      "execution_count": 111,
      "outputs": [
        {
          "output_type": "display_data",
          "data": {
            "image/png": "[encoded data removed]",
            "text/plain": [
              "<Figure size 864x432 with 1 Axes>"
            ]
          },
          "metadata": {
            "needs_background": "light"
          }
        }
      ]
    },
    {
      "cell_type": "markdown",
      "metadata": {
        "id": "29B_ln6hajGM"
      },
      "source": [
        "#Part 5 – Important features"
      ]
    },
    {
      "cell_type": "code",
      "metadata": {
        "colab": {
          "base_uri": "https://localhost:8080/"
        },
        "id": "s2-JrFouavZa",
        "outputId": "04534947-f696-4403-ca0f-f90ffa383900"
      },
      "source": [
        "from matplotlib import pyplot\n",
        "\n",
        "# get importance\n",
        "importance = RF_model.feature_importances_\n",
        "\n",
        "#to be ploted\n",
        "feature_importance = []\n",
        "\n",
        "# summarize feature importance\n",
        "for i in range(len(importance)):\n",
        "\tfeature_importance.append((list(X_train.columns)[i],importance[i]))\n",
        " \n",
        "feature_importance"
      ],
      "execution_count": 66,
      "outputs": [
        {
          "output_type": "execute_result",
          "data": {
            "text/plain": [
              "[('Week2_Quiz1', 0.0),\n",
              " ('Week3_MP1', 0.0770425141379433),\n",
              " ('Week3_PR1', 0.0),\n",
              " ('Week5_MP2', 0.15932919818853364),\n",
              " ('Week5_PR2', 0.00440973817179605),\n",
              " ('Week7_MP3', 0.16502775982680107),\n",
              " ('Week7_PR3', 0.0),\n",
              " ('Week4_Quiz2', 0.020768143539311147),\n",
              " ('Week6_Quiz3', 0.00775519529917935),\n",
              " ('Week1_Stat0', 0.024194893473160527),\n",
              " ('Week1_Stat2', 0.0029640436038602023),\n",
              " ('Week1_Stat3', 0.006043752535377709),\n",
              " ('Week2_Stat0', 0.03021262550292352),\n",
              " ('Week2_Stat1', 0.008883287783917428),\n",
              " ('Week2_Stat2', 0.005817561601032485),\n",
              " ('Week2_Stat3', 0.005723312819503579),\n",
              " ('Week3_Stat0', 0.02884193265594347),\n",
              " ('Week3_Stat1', 0.0),\n",
              " ('Week3_Stat2', 0.01280001763177054),\n",
              " ('Week3_Stat3', 0.01565600964924203),\n",
              " ('Week4_Stat0', 0.09567472166813415),\n",
              " ('Week4_Stat1', 0.0),\n",
              " ('Week4_Stat2', 0.004641909814323608),\n",
              " ('Week4_Stat3', 0.013383431973598443),\n",
              " ('Week5_Stat0', 0.010686406366571973),\n",
              " ('Week5_Stat1', 0.058192225913940354),\n",
              " ('Week5_Stat2', 0.01897183020292485),\n",
              " ('Week5_Stat3', 0.006802163740690342),\n",
              " ('Week6_Stat0', 0.0),\n",
              " ('Week6_Stat1', 0.04572731310633148),\n",
              " ('Week6_Stat2', 0.00972451348600152),\n",
              " ('Week6_Stat3', 0.0),\n",
              " ('Week7_Stat0', 0.04693550212205027),\n",
              " ('Week7_Stat1', 0.03500911998473179),\n",
              " ('Week7_Stat2', 0.005640337539138976),\n",
              " ('Week7_Stat3', 0.00792972666003049),\n",
              " ('Week8_Stat0', 0.005923883791480622),\n",
              " ('Week8_Stat1', 0.023088921099965288),\n",
              " ('Week8_Stat2', 0.0),\n",
              " ('Week8_Stat3', 0.005039787798408489),\n",
              " ('Week9_Stat0', 0.025493932927176673),\n",
              " ('Week9_Stat1', 0.002657218777679362),\n",
              " ('Week9_Stat2', 0.003007066606525335),\n",
              " ('Week9_Stat3', 0.0)]"
            ]
          },
          "metadata": {},
          "execution_count": 66
        }
      ]
    },
    {
      "cell_type": "code",
      "metadata": {
        "colab": {
          "base_uri": "https://localhost:8080/"
        },
        "id": "bdjexAyP7Y40",
        "outputId": "51811f5b-04e2-4aae-8502-1d3ed5401db0"
      },
      "source": [
        "#only the features which importance value is higher than 0.04\n",
        "feature_importance_tops = []\n",
        "for i in range(len(importance)):\n",
        "  if importance[i] > 0.04:\n",
        "\t  feature_importance_tops.append((list(X_train.columns)[i],importance[i]))\n",
        " \n",
        "feature_importance_tops"
      ],
      "execution_count": 67,
      "outputs": [
        {
          "output_type": "execute_result",
          "data": {
            "text/plain": [
              "[('Week3_MP1', 0.0770425141379433),\n",
              " ('Week5_MP2', 0.15932919818853364),\n",
              " ('Week7_MP3', 0.16502775982680107),\n",
              " ('Week4_Stat0', 0.09567472166813415),\n",
              " ('Week5_Stat1', 0.058192225913940354),\n",
              " ('Week6_Stat1', 0.04572731310633148),\n",
              " ('Week7_Stat0', 0.04693550212205027)]"
            ]
          },
          "metadata": {},
          "execution_count": 67
        }
      ]
    },
    {
      "cell_type": "code",
      "metadata": {
        "colab": {
          "base_uri": "https://localhost:8080/",
          "height": 320
        },
        "id": "QQxFCk2Z5nyW",
        "outputId": "398b395c-7bfe-46d4-97e5-851e994671f0"
      },
      "source": [
        "# plot feature importance\n",
        "plt.bar(range(len(feature_importance_tops)), [val[1] for val in feature_importance_tops], align='center')\n",
        "plt.xticks(range(len(feature_importance_tops)), [val[0] for val in feature_importance_tops])\n",
        "plt.xticks(rotation=70)\n",
        "plt.show()"
      ],
      "execution_count": 68,
      "outputs": [
        {
          "output_type": "display_data",
          "data": {
            "image/png": "[encoded data removed]",
            "text/plain": [
              "<Figure size 432x288 with 1 Axes>"
            ]
          },
          "metadata": {
            "needs_background": "light"
          }
        }
      ]
    },
    {
      "cell_type": "markdown",
      "metadata": {
        "id": "QLUhiBSG8f-A"
      },
      "source": [
        "The most important three features are Week7_MP3, Week5_MP2 and Week4_Stat0. It was expected since Mini Project 2 and Mini Project 3 are the assignments with the highest effect on total grade."
      ]
    }
  ]
}